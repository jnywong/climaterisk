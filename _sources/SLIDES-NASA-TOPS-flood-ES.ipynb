{
 "cells": [
  {
   "cell_type": "markdown",
   "metadata": {
    "slideshow": {
     "slide_type": "slide"
    }
   },
   "source": [
    "# Analizando de manera reproducible el riesgo de inundaciones con NASA Earthdata cloud.\n",
    "\n",
    "<div style=\"display: flex; align-items: center;\">\n",
    "    <img src=\"TOPS.png\" alt=\"Image\" style=\"width: 100px; height: auto; margin-right: 10px;\">\n",
    "    <h3>ScienceCore:<br>Climate Risk</h3>\n",
    "</div>\n",
    "\n",
    "\n"
   ]
  },
  {
   "cell_type": "markdown",
   "metadata": {
    "slideshow": {
     "slide_type": "slide"
    }
   },
   "source": [
    "## Objetivo\n",
    "\n",
    "Utilizar los productos abiertos de la NASA llamados Opera Dynamic Surface Water eXtent (DSWx) - Landsat Sentinel-2 armonizado (HLS) para mapear la extensión de la inundación como resultado del evento monzónico de septiembre de 2022 en Pakistán.\n"
   ]
  },
  {
   "cell_type": "markdown",
   "metadata": {
    "slideshow": {
     "slide_type": "notes"
    }
   },
   "source": [
    "En 2022, las lluvias monzónicas de Pakistán alcanzaron niveles récord, provocando devastadoras inundaciones y deslizamientos de tierra que afectaron a las cuatro provincias del país y a alrededor del 14% de su población. En este ejemplo, podrás ver cómo utilizar los productos abiertos de NASA Opera DSWx-HLS para mapear la extensión de las inundaciones causadas por el monzón ocurrido en septiembre de 2022 en Pakistán.\n"
   ]
  },
  {
   "cell_type": "markdown",
   "metadata": {
    "slideshow": {
     "slide_type": "slide"
    }
   },
   "source": [
    "## Hoja de Ruta\n",
    "\n",
    "- Productos Opera DSWx-HLS\n",
    "- Configurar el ambiente de trabajo\n",
    "- Definir el área de interés\n",
    "- Búsqueda y obtención de datos\n",
    "- Análisis de datos\n",
    "- Procesamiento y visualización"
   ]
  },
  {
   "cell_type": "markdown",
   "metadata": {
    "slideshow": {
     "slide_type": "notes"
    }
   },
   "source": [
    "Primero, definiremos qué son los productos Opera DSWx-HLS y qué tipo de información puedes obtener de ellos. \n",
    "Luego, aprenderás a configurarás tu ambiente de trabajo, definir el área de interés sobre la que quieres recolectar información, realizar la búsqueda y recolección de datos, analizaros y visualizarlos. \n"
   ]
  },
  {
   "cell_type": "markdown",
   "metadata": {
    "slideshow": {
     "slide_type": "slide"
    }
   },
   "source": [
    "## Qué te llevarás\n",
    "\n",
    "-- Insertar imagen resultante --"
   ]
  },
  {
   "cell_type": "markdown",
   "metadata": {
    "slideshow": {
     "slide_type": "notes"
    }
   },
   "source": [
    "Este es el resultado final al que llegarás, luego de completar las actividades del taller. "
   ]
  },
  {
   "cell_type": "markdown",
   "metadata": {
    "slideshow": {
     "slide_type": "slide"
    }
   },
   "source": [
    "## Antes de empezar\n",
    "\n",
    "- Para participar de esta clase, debes aceptar las pautas de convivencia detalladas [aquí]().\n",
    "- Si hablas, luego silencia tu micrófono para evitar interrupciones por ruidos de fondo. Puede que lo hagamos por ti.\n",
    "- Para decir algo, pide la palabra o usa el chat.\n",
    "- ¿Podemos grabar el chat? ¿Podemos “sacar fotos”?\n"
   ]
  },
  {
   "cell_type": "markdown",
   "metadata": {
    "slideshow": {
     "slide_type": "notes"
    }
   },
   "source": [
    "Pautas de convencia:\n",
    "- Si están en este curso aceptaron las pautas de convivencia de nuestra comunidad el cuál implica, a grandes rasgos, que nos vamos a comportar de forma educada y amable para que este sea un ambiente abierto, seguro y amigable y garantizar la participación de todas las personas en nuestras actividades y espacios virtuales. \n",
    "- Si alguno de ustedes ve o siente que no está lo suficientemente cómodo o cómoda, nos puede escribir a nosotros por mensajes privados. \n",
    "- En caso de que quienes no los hagamos sentir cómodo seamos --docentes-- lo pueden indicar enviando un mail a --agregar mail de referencia --\n",
    "Cómo participar:\n",
    "- Vamos a pedirles que se silencien/apaguen los micrófonos mientras no están hablando para que no nos moleste el sonido ambiente de cada uno de nosotros. \n",
    "- Pueden pedir la palabra levantando la mano o en el chat y --docentes-- vamos a estar atentos para que puedan participar en el momento adecuado.\n",
    "Acerca de la grabación:\n",
    "- El curso va a grabarse, si no desean aparecer en la grabación les pedimos que apaguen la camara. \n",
    "- Si alguno de ustedes quiere contar lo que estamos haciendo en redes sociales, por favor, antes de sacar una foto o captura de pantalla con las caras de cada una de las personas que están presentes, pidamos permiso porque puede haber gente que no se sienta cómoda compartiendo su imagen en internet. No hay inconvenientes en que compartan imágenes de las diapositivas o --la cara del docente--. \n",
    "\n"
   ]
  },
  {
   "cell_type": "markdown",
   "metadata": {
    "slideshow": {
     "slide_type": "slide"
    }
   },
   "source": [
    "## Dataset Opera DSWx-HLS\n",
    "\n",
    "- Contiene observaciones de la extensión superficial de agua en ubicaciones y momentos específicos (de febrero de 2019 hasta septiembre de 2022).\n",
    "- Se distribuyen sobre coordenadas de mapa proyectadas como mosaicos.\n",
    "- Cada mosaico cubre un área de 109.8 x 109.8 km.\n",
    "- Cada mosaico incluye 10 GeoTIFF (capas).\n"
   ]
  },
  {
   "cell_type": "markdown",
   "metadata": {
    "slideshow": {
     "slide_type": "notes"
    }
   },
   "source": [
    "Este conjunto de datos contiene observaciones de la extensión superficial de agua en ubicaciones y momentos específicos que abarcan desde febrero de 2019 hasta septiembre de 2022. El conjunto de datos de entrada para generar cada producto es el producto Harmonized Landsat-8 y Sentinel-2A/B (HLS) versión 2.0. Los productos HLS proporcionan datos de reflectancia de superficie (SR) del Operador de Imágenes Terrestres (OLI) a bordo del satélite Landsat 8 y del Instrumento Multiespectral (MSI) a bordo de los satélites Sentinel-2A/B.\n",
    "\n",
    "Los productos de extensión superficial de agua se distribuyen sobre coordenadas de mapa proyectadas. Cada mosaico UTM cubre un área de 109,8 km × 109,8 km. Esta área se divide en 3,660 filas y 3,660 columnas con un espaciado de píxeles de 30 m.\n",
    "\n",
    "Cada producto se distribuye como un conjunto de 10 archivos GeoTIFF (capas) que incluyen clasificación de agua, confianza asociada, clasificación de cobertura terrestre, capa de sombra del terreno, clasificación de nubes/sombras de nubes, Modelo Digital de Elevación (DEM) y capa diagnóstica en formato PNG.\n",
    "\n"
   ]
  },
  {
   "cell_type": "markdown",
   "metadata": {
    "slideshow": {
     "slide_type": "slide"
    }
   },
   "source": [
    "## Dataset Opera DSWx-HLS\n",
    "\n",
    "1. B02_BWTR (Capa binaria de agua):\n",
    "    - 1 (blanco) = presencia de agua. \n",
    "    - 0 (negro) = ausencia de agua. \n",
    "\n",
    "2. B03_CONF (Capa de confianza):\n",
    "    - % de confianza en sus predicciones de agua. "
   ]
  },
  {
   "cell_type": "markdown",
   "metadata": {
    "slideshow": {
     "slide_type": "notes"
    }
   },
   "source": [
    "En este taller, utilizaremos dos capas:\n",
    "1. **B02_BWTR (Capa binaria de agua):**\n",
    "Esta capa nos brinda una imagen simple de las áreas inundadas. Donde hay agua, la capa vale 1 (blanco) y donde no hay agua, toma valor 0 (negro). Es como un mapa binario de las inundaciones, ideal para obtener una visión general rápida de la extensión del desastre.\n",
    "2. **B03_CONF (Capa de confianza):**\n",
    "Esta capa nos indica qué tan seguro está el sistema DSWx-HLS de sus predicciones de agua. Donde la capa muestra valores altos (cerca de 100%), podemos estar muy seguros de que hay agua. En áreas con valores más bajos, la confianza disminuye, lo que significa que lo que parece agua podría ser otra cosa, como sombras o nubes.\n",
    "\n",
    "Para ayudarte a visualizar mejor cómo funciona esto piensa en una imagen satelital de la zona afectada por las inundaciones. Las áreas con agua se ven azul oscuro, mientras que las áreas secas se ven de color marrón o verde.\n",
    "La capa binaria de agua (B02_BWTR), superpuesta sobre la imagen, sombrearía de blanco todas las áreas azules, creando un mapa simple de agua sí/no.\n",
    "En cambio, la capa de confianza (B03_CONF) funcionaría como una transparencia superpuesta sobre la imagen, con áreas blancas sólidas donde la confianza es alta y transparencia creciente hacia el negro donde la confianza es baja. Esto te permite ver dónde el sistema DSWx-HLS está más seguro de que sus predicciones de agua son correctas.\n",
    "Al combinar estas capas, los científicos y los trabajadores humanitarios pueden obtener una imagen clara de la extensión de las inundaciones y priorizar los esfuerzos de rescate y recuperación.\n"
   ]
  },
  {
   "cell_type": "markdown",
   "metadata": {
    "slideshow": {
     "slide_type": "slide"
    }
   },
   "source": [
    "## Configurar el ambiente de trabajo\n",
    "\n",
    "A COMPLETAR."
   ]
  },
  {
   "cell_type": "markdown",
   "metadata": {
    "slideshow": {
     "slide_type": "notes"
    }
   },
   "source": [
    "ESTO HAY QUE DEFINIRLO A PARTIR DE LA MODIFICACIÓN DE LAS NOTEBOOKS. "
   ]
  },
  {
   "cell_type": "markdown",
   "metadata": {
    "slideshow": {
     "slide_type": "slide"
    }
   },
   "source": [
    "## Live Coding: Vamos a la notebook XXXXX."
   ]
  },
  {
   "cell_type": "markdown",
   "metadata": {
    "slideshow": {
     "slide_type": "slide"
    }
   },
   "source": [
    "## Selección del área de interés (AOI)\n",
    "\n",
    "- Inicializar parámetros definidos por el usuario.  \n",
    "- Relizar una búsqueda de datos específicos en la NASA. \n",
    "- Buscar imágenes dentro de colección DSWx-HLS que coincidan con el AOI."
   ]
  },
  {
   "cell_type": "markdown",
   "metadata": {
    "slideshow": {
     "slide_type": "notes"
    }
   },
   "source": [
    "A continuación, aprenderás a:\n",
    "\n",
    "1. Inicializar parámetros definidos por el usuario:\n",
    "\n",
    "* Define la zona de búsqueda: Dibuja un rectángulo en el mapa para indicar el área donde quieres buscar datos.\n",
    "* Establece el periodo de búsqueda: Marca la fecha de inicio y de fin para acotar los resultados a un rango de tiempo específico.\n",
    "* Muestra los parámetros: Imprime en la pantalla los detalles de la zona de búsqueda y las fechas elegidas para que puedas verificarlos.\n",
    "\n",
    "2. Realizar la búsqueda de datos específicos en la NASA:\n",
    "\n",
    "* Se conecta a la base de datos: Enlaza con la API CMR-STAC de la NASA para poder acceder a sus archivos.\n",
    "* Especifica la colección: Indica que quiere buscar datos de la colección \"OPERA_L3_DSWX-HLS_PROVISIONAL_V0\".\n",
    "* Realiza la búsqueda: Filtra los resultados según la zona de búsqueda, las fechas y un límite máximo de 1000 resultados.\n",
    "\n",
    "3. Buscar imágenes (de la colección DSWx-HLS) que coincidan con el área de interés:\n",
    "\n",
    "* Mide la superposición: Calcula cuánto se solapa cada imagen con el área que te interesa.\n",
    "* Muestra los porcentajes: Imprime en la pantalla estos porcentajes para que puedas ver la cobertura.\n",
    "* Filtra las imágenes: Selecciona solo aquellas que tengan una superposición mayor a un límite establecido.\n",
    "\n"
   ]
  },
  {
   "cell_type": "markdown",
   "metadata": {
    "slideshow": {
     "slide_type": "slide"
    }
   },
   "source": [
    "## Live Coding: Vamos a la notebook XXXXX."
   ]
  },
  {
   "cell_type": "markdown",
   "metadata": {
    "slideshow": {
     "slide_type": "slide"
    }
   },
   "source": [
    "## Actividad 1: \n",
    "\n",
    "Modifica los parámetros XXX para definir una nueva área de interés. "
   ]
  },
  {
   "cell_type": "markdown",
   "metadata": {
    "slideshow": {
     "slide_type": "slide"
    }
   },
   "source": [
    "## Búsqueda y obtención de datos\n",
    "\n",
    "- Transformar los datos filtrados en una lista. \n",
    "- Mostrar los detalles del primer resultado:\n",
    "    - Contar los resultados. \n",
    "    - Mostrar superposición. \n",
    "    - Indicar nubosidad. "
   ]
  },
  {
   "cell_type": "markdown",
   "metadata": {
    "slideshow": {
     "slide_type": "notes"
    }
   },
   "source": [
    "En la siguiente sección aprenderás:\n",
    "\n",
    "1. Cómo transformar los resultados filtrados en una lista para poder trabajar con ellos más fácilmente.\n",
    "2. Cómo mostrar los detalles del primer resultado para ver cómo es la información que contiene.\n",
    "    - Contar los resultado: cuántos archivos se encontraron después de aplicar los filtros.\n",
    "    - Mostrar la superposición: cuánto se solapa cada archivo con la zona que buscas, para que sepas qué tan bien cubren el área.\n",
    "    - Indicar la nubosidad: cantidad de nubes que había en cada archivo antes de filtrarlo, para que puedas considerar si la cobertura de nubes es un factor importante para ti.\n",
    "\n",
    "\n"
   ]
  },
  {
   "cell_type": "markdown",
   "metadata": {
    "slideshow": {
     "slide_type": "slide"
    }
   },
   "source": [
    "## Live Coding: Vamos a la notebook XXXX. "
   ]
  },
  {
   "cell_type": "markdown",
   "metadata": {
    "slideshow": {
     "slide_type": "slide"
    }
   },
   "source": [
    "## Actividad 2:\n",
    "\n",
    "A DEFINIR"
   ]
  },
  {
   "cell_type": "markdown",
   "metadata": {
    "slideshow": {
     "slide_type": "slide"
    }
   },
   "source": [
    "## Análisis de datos\n",
    "\n",
    "A DEFINIR"
   ]
  },
  {
   "cell_type": "markdown",
   "metadata": {
    "slideshow": {
     "slide_type": "slide"
    }
   },
   "source": [
    "## Live Coding: Vamos a la notebook XXXX. "
   ]
  },
  {
   "cell_type": "markdown",
   "metadata": {
    "slideshow": {
     "slide_type": "slide"
    }
   },
   "source": [
    "## Actividad 3:\n",
    "\n",
    "A DEFINIR"
   ]
  },
  {
   "cell_type": "markdown",
   "metadata": {
    "slideshow": {
     "slide_type": "slide"
    }
   },
   "source": [
    "## Procesamiento y visualización\n",
    "\n",
    "A DEFINIR"
   ]
  },
  {
   "cell_type": "markdown",
   "metadata": {
    "slideshow": {
     "slide_type": "slide"
    }
   },
   "source": [
    "## Live Coding: Vamos a la notebook XXXX."
   ]
  },
  {
   "cell_type": "markdown",
   "metadata": {
    "slideshow": {
     "slide_type": "slide"
    }
   },
   "source": [
    "## Actividad 4:\n",
    "\n",
    "A DEFINIR"
   ]
  }
 ],
 "metadata": {
  "language_info": {
   "name": "python"
  }
 },
 "nbformat": 4,
 "nbformat_minor": 2
}
