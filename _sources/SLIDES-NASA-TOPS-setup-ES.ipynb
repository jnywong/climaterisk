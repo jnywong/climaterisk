{
 "cells": [
  {
   "cell_type": "markdown",
   "metadata": {
    "slideshow": {
     "slide_type": "slide"
    }
   },
   "source": [
    "# Primeros pasos\n",
    "## Configuración del Hub de 2i2c y las credenciales de EarthData\n",
    "\n",
    "<div style=\"display: flex; align-items: center;\">\n",
    "    <img src=\"TOPS.png\" alt=\"Image\" style=\"width: 100px; height: auto; margin-right: 10px;\">\n",
    "    <h3>ScienceCore:<br>Climate Risk</h3>\n",
    "</div>\n",
    "\n",
    "\n"
   ]
  },
  {
   "cell_type": "markdown",
   "metadata": {
    "slideshow": {
     "slide_type": "notes"
    }
   },
   "source": [
    "En esta sección, encontrarás información sobre como configurar tu cuenta del Hub de 2i2c y tus credenciales de EarthData. Ambas cosas son necesarias para poder completar los siguientes módulos. "
   ]
  },
  {
   "cell_type": "markdown",
   "metadata": {
    "slideshow": {
     "slide_type": "slide"
    }
   },
   "source": [
    "## Conectate al Hub de 2i2c\n",
    "\n",
    "- Servicio colaborativo en la nube para comunidades en investigación y educación. \n",
    "- Conectate al Hub siguiendo este link: https://showcase.2i2c.cloud/hub/login\n"
   ]
  },
  {
   "cell_type": "markdown",
   "metadata": {
    "slideshow": {
     "slide_type": "notes"
    }
   },
   "source": [
    "El Hub de 2i2c es un servicio en la nube colaborativo para comunidades en investigación y educación. \n",
    "Las clases que encontrarás en los módulos de este Jupyter book, están pensadas para ejecutarse en el hub de 2i2c. \n"
   ]
  },
  {
   "cell_type": "markdown",
   "metadata": {
    "slideshow": {
     "slide_type": "slide"
    }
   },
   "source": [
    "## NASA EarthData\n",
    "\n",
    "- Plataforma diseñada para facilitar el acceso y uso de datos de ciencias de la Tierra (imágenes, observaciones satelitales, datos climáticos y mediciones ambientales).\n",
    "- Acceso abierto y gratuito. \n"
   ]
  },
  {
   "cell_type": "markdown",
   "metadata": {
    "slideshow": {
     "slide_type": "notes"
    }
   },
   "source": [
    "El programa de Sistemas de Datos de Ciencias de la Tierra de la NASA supervisa el ciclo de vida de los datos de ciencias de la Tierra de la NASA de todas sus misiones de Observación de la Tierra — desde la adquisición hasta el procesamiento y la distribución.\n",
    "\n",
    "La plataforma Earthdata está diseñada para facilitar el descubrimiento, acceso y uso de datos de ciencias de la Tierra para fines de investigación, aplicaciones y toma de decisiones. Proporciona datos en varios formatos, incluidas imágenes, observaciones satelitales, datos climáticos y mediciones ambientales, entre otros.\n",
    "\n",
    "El sitio web de NASA Earthdata es el punto de partida para el acceso completo y abierto a las colecciones de datos de ciencias de la Tierra de la NASA, que se proporcionan de forma gratuita para acelerar el avance científico en beneficio de la sociedad. "
   ]
  },
  {
   "cell_type": "markdown",
   "metadata": {
    "slideshow": {
     "slide_type": "slide"
    }
   },
   "source": [
    "## Crea las credenciales de EarthData\n",
    "\n",
    "- Página para registrarte: https://urs.earthdata.nasa.gov/home\n",
    "- Tutorial: https://urs.earthdata.nasa.gov/documentation/for_users/how_to_register\n",
    "- ¡Importante! Recuerda guardar tu **usuario** y **contraseña**, ¡lo necesitarás más adelante! "
   ]
  },
  {
   "cell_type": "markdown",
   "metadata": {
    "slideshow": {
     "slide_type": "notes"
    }
   },
   "source": [
    "Para acceder a los datos a través de este portal, se requiere que los usuarios configuren credenciales de inicio de sesión.\n",
    "Debes registrarte en este link: https://urs.earthdata.nasa.gov/home\n",
    "Puedes encontrar un tutorial sobre como hacerlo en este link: https://urs.earthdata.nasa.gov/documentation/for_users/how_to_register\n",
    "Asegúrate de recordar el nombre de usuario y la contraseña que configures en este paso, ya que los necesitarás en el paso siguiente. \n",
    "\n"
   ]
  },
  {
   "cell_type": "markdown",
   "metadata": {
    "slideshow": {
     "slide_type": "slide"
    }
   },
   "source": [
    "## Accede a EarthData desde Python\n",
    "\n",
    "- Almacena las credenciales creadas en un archivo. \n",
    "- Utiliza el archivo `.netrc` provisto en este repositorio, incluyendo tus datos en la siguiente línea:\n",
    "\n",
    "machine urs.earthdata.nasa.gov login **{username}** password **{password}**\n",
    "\n",
    "- Guarda los cambios y cierra el archivo. "
   ]
  },
  {
   "cell_type": "markdown",
   "metadata": {
    "slideshow": {
     "slide_type": "notes"
    }
   },
   "source": [
    "Para acceder con éxito a los datos de la NASA utilizando Python y Jupyter notebooks, necesitas almacenar las credenciales de inicio de sesión en un archivo. \n",
    "En el repositorio de este proyecto, se proporciona un archivo .netrc donde los usuarios puedes ingresar tus credenciales.\n",
    "\n",
    "Abre el archivo .netrc y edita donde dice usuario y contraseña, reemplazándolos por el usuario y la contraseña que creaste el paso anterior. \n",
    "\n",
    "Guarda los cambios y cierra el archivo. ¡Ahora estás listo para acceder a los datos de Observación de la Tierra a través del portal de Earthdata!\n",
    "\n"
   ]
  },
  {
   "cell_type": "markdown",
   "metadata": {
    "slideshow": {
     "slide_type": "slide"
    }
   },
   "source": [
    "## Actividad 1\n",
    "\n",
    "Ejecuta la notebook `1_Getting_Started.ipynb` para obtener la siguiente imagen:\n",
    "\n",
    "![Setup1](SETUP1.png)"
   ]
  },
  {
   "cell_type": "markdown",
   "metadata": {
    "slideshow": {
     "slide_type": "slide"
    }
   },
   "source": [
    "## Live coding: Vamos a la notebook `1_Getting_Started.ipynb`"
   ]
  },
  {
   "cell_type": "markdown",
   "metadata": {
    "slideshow": {
     "slide_type": "notes"
    }
   },
   "source": [
    "Para asegurarte de que tus credenciales estén configuradas correctamente y funcionando, puedes ejecutar la Jupyter notebook titulada 1_Getting_Started.ipynb. "
   ]
  }
 ],
 "metadata": {
  "kernelspec": {
   "display_name": "base",
   "language": "python",
   "name": "python3"
  },
  "language_info": {
   "name": "python",
   "version": "3.9.7"
  },
  "orig_nbformat": 4
 },
 "nbformat": 4,
 "nbformat_minor": 2
}
