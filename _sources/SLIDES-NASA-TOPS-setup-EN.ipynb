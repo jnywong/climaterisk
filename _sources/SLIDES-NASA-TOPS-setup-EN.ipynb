{
 "cells": [
  {
   "cell_type": "markdown",
   "metadata": {
    "slideshow": {
     "slide_type": "slide"
    }
   },
   "source": [
    "# First steps\n",
    "## Setting up the 2i2c Hub and EarthData credentials\n",
    "\n",
    "<div style=\"display: flex; align-items: center;\">\n",
    "    <img src=\"TOPS.png\" alt=\"Image\" style=\"width: 100px; height: auto; margin-right: 10px;\">\n",
    "    <h3>ScienceCore:<br>Climate Risk</h3>\n",
    "</div>\n",
    "\n",
    "\n"
   ]
  },
  {
   "cell_type": "markdown",
   "metadata": {
    "slideshow": {
     "slide_type": "notes"
    }
   },
   "source": [
    "In this section, you will find information on how to setup your 2i2c Hub account and your EarthData credentials. Both are necessary to complete the following modules."
   ]
  },
  {
   "cell_type": "markdown",
   "metadata": {
    "slideshow": {
     "slide_type": "slide"
    }
   },
   "source": [
    "## Connect to the 2i2c Hub\n",
    "\n",
    "- Collaborative cloud service for communities in research and education. \n",
    "- Connect to the Hub by following this link: https://showcase.2i2c.cloud/hub/login\n"
   ]
  },
  {
   "cell_type": "markdown",
   "metadata": {
    "slideshow": {
     "slide_type": "notes"
    }
   },
   "source": [
    "The 2i2c Hub is a collaborative cloud service for communities in research and education. \n",
    "The classes you will find in the modules of this Jupyter book are designed to run on the 2i2c hub. \n"
   ]
  },
  {
   "cell_type": "markdown",
   "metadata": {
    "slideshow": {
     "slide_type": "slide"
    }
   },
   "source": [
    "## NASA EarthData\n",
    "\n",
    "- Platform designed to facilitate access and use of Earth science data (images, satellite observations, climate data, and environmental measurements).\n",
    "- Free and open access. \n"
   ]
  },
  {
   "cell_type": "markdown",
   "metadata": {
    "slideshow": {
     "slide_type": "notes"
    }
   },
   "source": [
    "NASA's Earth Science Data Systems program oversees the life cycle of NASA’s Earth science data from all of its Earth Observation missions — from acquisition through processing and distribution. \n",
    "\n",
    "The Earthdata platform is designed to facilitate the discovery, access, and use of Earth science data for research, applications, and decision-making purposes. It provides data in various formats, including images, satellite observations, climate data, and environmental measurements, among others.\n",
    "\n",
    "the NASA Earthdata website is the starting point for full and open access to NASA's Earth science data collections, which is provided free of cost towards accelerating scientific advancement for societal benefit. "
   ]
  },
  {
   "cell_type": "markdown",
   "metadata": {
    "slideshow": {
     "slide_type": "slide"
    }
   },
   "source": [
    "## Create EarthData credentials\n",
    "\n",
    "- Page to register: https://urs.earthdata.nasa.gov/home\n",
    "- Tutorial: https://urs.earthdata.nasa.gov/documentation/for_users/how_to_register\n",
    "- Important! Remember to save your **username** and **password**, you will need it later! "
   ]
  },
  {
   "cell_type": "markdown",
   "metadata": {
    "slideshow": {
     "slide_type": "notes"
    }
   },
   "source": [
    "To access data through this portal, users are required to first set up log in credentials.\n",
    "\n",
    "You must register at this link: https://urs.earthdata.nasa.gov/home\n",
    "\n",
    "You can find a tutorial on how to do it at this link: https://urs.earthdata.nasa.gov/documentation/for_users/how_to_register\n",
    "\n",
    "Be sure to remember the username and password you set up in this step, you will need them in the next one! \n",
    "\n"
   ]
  },
  {
   "cell_type": "markdown",
   "metadata": {
    "slideshow": {
     "slide_type": "slide"
    }
   },
   "source": [
    "## Access EarthData from Python\n",
    "\n",
    "- Store the created credentials in a file. \n",
    "- Use the `.netrc` file provided in this repository, including your data on the following line:\n",
    "\n",
    "machine urs.earthdata.nasa.gov login **{username}** password **{password}**\n",
    "\n",
    "- Save the changes and close the file. "
   ]
  },
  {
   "cell_type": "markdown",
   "metadata": {
    "slideshow": {
     "slide_type": "notes"
    }
   },
   "source": [
    "To successfully access NASA data through Python programs and Jupyter notebooks, we need to store the login credentials in a file. \n",
    "\n",
    "In this project's repository, a .netrc file is provided where users can enter their credentials.\n",
    "\n",
    "Open the .netrc file and edit where it says username and password, replacing them with the username and password you created in the previous step. \n",
    "\n",
    "Save the changes and close the file. You are now ready to access Earth Observation data through the Earthdata portal!\n",
    "\n"
   ]
  },
  {
   "cell_type": "markdown",
   "metadata": {
    "slideshow": {
     "slide_type": "slide"
    }
   },
   "source": [
    "## Actividad 1\n",
    "\n",
    "Ejecuta la notebook `1_Getting_Started.ipynb` para obtener la siguiente imagen:\n",
    "\n",
    "![Setup1](SETUP1.png)"
   ]
  },
  {
   "cell_type": "markdown",
   "metadata": {
    "slideshow": {
     "slide_type": "slide"
    }
   },
   "source": [
    "## Live coding: Let's go to the notebook `1_Getting_Started.ipynb`"
   ]
  },
  {
   "cell_type": "markdown",
   "metadata": {
    "slideshow": {
     "slide_type": "notes"
    }
   },
   "source": [
    "To ensure that your credentials are correctly set up and working, you can run the Jupyter notebook titled 1_Getting_Started.ipynb. "
   ]
  }
 ],
 "metadata": {
  "kernelspec": {
   "display_name": "base",
   "language": "python",
   "name": "python3"
  },
  "language_info": {
   "name": "python",
   "version": "3.9.7"
  },
  "orig_nbformat": 4
 },
 "nbformat": 4,
 "nbformat_minor": 2
}
