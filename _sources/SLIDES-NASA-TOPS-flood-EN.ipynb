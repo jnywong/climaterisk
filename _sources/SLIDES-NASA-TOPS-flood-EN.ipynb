{
   "cells": [
      {
         "cell_type": "markdown",
         "metadata": {
            "slideshow": {
               "slide_type": "slide"
            }
         },
         "source": [
            "# Analyzing Flood Risk Reproducibly with NASA Earthdata Cloud\n",
            "\n",
            "<div style=\"display: flex; align-items: center;\">\n",
            "    <img src=\"TOPS.png\" alt=\"Image\" style=\"width: 100px; height: auto; margin-right: 10px;\">\n",
            "    <h3>ScienceCore:<br>Climate Risk</h3>\n",
            "</div>\n",
            "\n",
            "\n"
         ]
      },
      {
         "cell_type": "markdown",
         "metadata": {
            "slideshow": {
               "slide_type": "slide"
            }
         },
         "source": [
            "## Objective\n",
            "\n",
            "Utilize NASA's open products called Opera Dynamic Surface Water eXtent (DSWx) - Harmonized Landsat Sentinel-2 (HLS) to map the extent of flooding resulting from the September 2022 monsoon event in Pakistan.\n"
         ]
      },
      {
         "cell_type": "markdown",
         "metadata": {
            "slideshow": {
               "slide_type": "notes"
            }
         },
         "source": [
            "In 2022, Pakistan's monsoon rains reached record levels, causing devastating floods and landslides that affected all four provinces of the country and around 14% of its population. In this example, you will see how to use NASA's open products Opera DSWx-HLS to map the extent of flooding caused by the monsoon in September 2022 in Pakistan.\n"
         ]
      },
      {
         "cell_type": "markdown",
         "metadata": {
            "slideshow": {
               "slide_type": "slide"
            }
         },
         "source": [
            "## Roadmap\n",
            "\n",
            "- Opera DSWx-HLS Products\n",
            "- Set up the working environment\n",
            "- Define the area of interest\n",
            "- Data search and retrieval\n",
            "- Data analysis\n",
            "- Processing and visualization"
         ]
      },
      {
         "cell_type": "markdown",
         "metadata": {
            "slideshow": {
               "slide_type": "notes"
            }
         },
         "source": [
            "First, we will define what Opera DSWx-HLS products are and what kind of information you can obtain from them.\n",
            "Then, you will learn to set up your working environment, define the area of interest you want to gather information about, perform data search and retrieval, analyze and visualize it.\n"
         ]
      },
      {
         "cell_type": "markdown",
         "metadata": {
            "slideshow": {
               "slide_type": "slide"
            }
         },
         "source": [
            "## The Expected Outcome\n",
            "\n",
            "-- Insert resulting image --"
         ]
      },
      {
         "cell_type": "markdown",
         "metadata": {
            "slideshow": {
               "slide_type": "notes"
            }
         },
         "source": [
            "This is the final result you will achieve after completing the workshop activities. "
         ]
      },
      {
         "cell_type": "markdown",
         "metadata": {
            "slideshow": {
               "slide_type": "slide"
            }
         },
         "source": [
            "## Before We Start\n",
            "\n",
            "- To participate in this class, you must accept the coexistence guidelines detailed [here]().\n",
            "- If you speak, then mute your microphone to avoid interruptions from background noise. We might do it for you.\n",
            "- To say something, request the floor or use the chat.\n",
            "- Can we record the chat? Can we take pictures?\n"
         ]
      },
      {
         "cell_type": "markdown",
         "metadata": {
            "slideshow": {
               "slide_type": "notes"
            }
         },
         "source": [
            "Coexistence guidelines:\n",
            "- If you're in this course, you've accepted the coexistence guidelines of our community, which broadly means we'll behave in a polite and friendly manner to make this an open, safe, and friendly environment, ensuring the participation of all individuals in our virtual activities and spaces.\n",
            "- If any of you see or feel that you're not comfortable enough, you can write to us privately.\n",
            "- In case those of us who don't make you feel comfortable are --teachers-- you can indicate it by sending an email to --add reference email--\n",
            "How to participate:\n",
            "- We're going to ask you to mute/turn off your microphones while you're not speaking so that the ambient sound from each of us doesn't bother us.\n",
            "- You can request the floor by raising your hand or in the chat, and --teachers-- will be attentive so that you can participate at the right time.\n",
            "About recording:\n",
            "- The course will be recorded, if you don't want to appear in the recording, we ask you to turn off the camera.\n",
            "- If any of you want to share what we're doing on social media, please, before taking a photo or screenshot with the faces of each of the people present, ask for permission because some people may not feel comfortable sharing their image on the internet. There are no problems in sharing images of the slides or --the teacher's face--.\n",
            "\n"
         ]
      },
      {
         "cell_type": "markdown",
         "metadata": {
            "slideshow": {
               "slide_type": "slide"
            }
         },
         "source": [
            "## Opera DSWx-HLS Dataset\n",
            "\n",
            "- Contains observations of surface water extent at specific locations and times (from February 2019 to September 2022).\n",
            "- Distributed over projected map coordinates as mosaics.\n",
            "- Each mosaic covers an area of 109.8 x 109.8 km.\n",
            "- Each mosaic includes 10 GeoTIFF (layers).\n"
         ]
      },
      {
         "cell_type": "markdown",
         "metadata": {
            "slideshow": {
               "slide_type": "notes"
            }
         },
         "source": [
            "This dataset contains observations of surface water extent at specific locations and times spanning from February 2019 to September 2022. The input dataset for generating each product is the Harmonized Landsat-8 and Sentinel-2A/B (HLS) product version 2.0. HLS products provide surface reflectance (SR) data from the Operational Land Imager (OLI) aboard the Landsat 8 satellite and the MultiSpectral Instrument (MSI) aboard the Sentinel-2A/B satellite.\n",
            "\n",
            "Surface water extent products are distributed over projected map coordinates. Each UTM mosaic covers an area of 109.8 km × 109.8 km. This area is divided into 3,660 rows and 3,660 columns with a pixel spacing of 30 m.\n",
            "\n",
            "Each product is distributed as a set of 10 GeoTIFF files (layers) including water classification, associated confidence, land cover classification, terrain shadow layer, cloud/cloud-shadow classification, Digital Elevation Model (DEM), and Diagnostic layer in PNG format.\n",
            "\n"
         ]
      },
      {
         "cell_type": "markdown",
         "metadata": {
            "slideshow": {
               "slide_type": "slide"
            }
         },
         "source": [
            "## Opera DSWx-HLS Dataset\n",
            "\n",
            "1. B02_BWTR (Water binary layer):\n",
            "    - 1 (white) = presence of water. \n",
            "    - 0 (black) = absence of water. \n",
            "\n",
            "2. B03_CONF (Confidence layer):\n",
            "    - % confidence in its water predictions. "
         ]
      },
      {
         "cell_type": "markdown",
         "metadata": {
            "slideshow": {
               "slide_type": "notes"
            }
         },
         "source": [
            "In this workshop, we will use two layers:\n",
            "1. **B02_BWTR (Water binary layer):**\n",
            "This layer provides us with a simple image of flooded areas. Where there is water, the layer is valued at 1 (white), and where there is no water, it takes a value of 0 (black). It's like a binary map of floods, ideal for getting a quick overview of the disaster's extent.\n",
            "2. **B03_CONF (Confidence layer):**\n",
            "This layer indicates how confident the DSWx-HLS system is in its water predictions. Where the layer shows high values (near 100%), we can be very sure that there is water. In areas with lower values, confidence decreases, meaning that what appears to be water could be something else, such as shadows or clouds.\n",
            "\n",
            "To help you better visualize how this works, think of a satellite image of the flood-affected area. Areas with water appear dark blue, while dry areas appear brown or green.\n",
            "The water binary layer (B02_BWTR), overlaid on the image, would shade all blue areas white, creating a simple map of water yes/no.\n",
            "In contrast, the confidence layer (B03_CONF) would function as a transparency overlaid on the image, with solid white areas where confidence is high and increasing transparency towards black where confidence is low. This allows you to see where the DSWx-HLS system is most confident that its water predictions are correct.\n",
            "By combining these layers, scientists and humanitarian workers can get a clear picture of the extent of floods and prioritize rescue and recovery efforts.\n"
         ]
      },
      {
         "cell_type": "markdown",
         "metadata": {
            "slideshow": {
               "slide_type": "slide"
            }
         },
         "source": [
            "## Set Up the Working Environment\n",
            "\n",
            "TO BE COMPLETED."
         ]
      },
      {
         "cell_type": "markdown",
         "metadata": {
            "slideshow": {
               "slide_type": "notes"
            }
         },
         "source": [
            "THIS NEEDS TO BE DEFINED BASED ON NOTEBOOK MODIFICATIONS. "
         ]
      },
      {
         "cell_type": "markdown",
         "metadata": {
            "slideshow": {
               "slide_type": "slide"
            }
         },
         "source": [
            "## Live Coding: Let's go to notebook XXXXX."
         ]
      },
      {
         "cell_type": "markdown",
         "metadata": {
            "slideshow": {
               "slide_type": "slide"
            }
         },
         "source": [
            "## Selection of the Area of Interest (AOI)\n",
            "\n",
            "- Initialize user-defined parameters.  \n",
            "- Perform a specific data search on NASA. \n",
            "- Search for images within the DSWx-HLS collection that match the AOI."
         ]
      },
      {
         "cell_type": "markdown",
         "metadata": {
            "slideshow": {
               "slide_type": "notes"
            }
         },
         "source": [
            "Next, you will learn:\n",
            "\n",
            "1. How to initialize user-defined parameters:\n",
            "\n",
            "* Define the search area: Draw a rectangle on the map to indicate the area where you want to search for data.\n",
            "* Set the search period: Mark the start and end dates to narrow down the results to a specific time range.\n",
            "* Display parameters: Print on the screen the details of the search area and the chosen dates so you can verify them.\n",
            "\n",
            "2. Perform a specific data search on NASA:\n",
            "\n",
            "* Connect to the database: Link to NASA's CMR-STAC API to access its files.\n",
            "* Specify the collection: Indicate that you want to search for data from the \"OPERA_L3_DSWX-HLS_PROVISIONAL_V0\" collection.\n",
            "* Perform the search: Filter the results according to the search area, dates, and a maximum limit of 1000 results.\n",
            "\n",
            "3. Search for images (from the DSWx-HLS collection) that match the area of interest:\n",
            "\n",
            "* Measure overlap: Calculate how much each image overlaps with the area you are interested in.\n",
            "* Show percentages: Print these percentages on the screen so you can see the coverage.\n",
            "* Filter images: Select only those with an overlap greater than a set limit.\n",
            "\n"
         ]
      },
      {
         "cell_type": "markdown",
         "metadata": {
            "slideshow": {
               "slide_type": "slide"
            }
         },
         "source": [
            "## Live Coding: Let's go to notebook XXXXX."
         ]
      },
      {
         "cell_type": "markdown",
         "metadata": {
            "slideshow": {
               "slide_type": "slide"
            }
         },
         "source": [
            "## Activity 1: \n",
            "\n",
            "Modify the XXX parameters to define a new area of interest. "
         ]
      },
      {
         "cell_type": "markdown",
         "metadata": {
            "slideshow": {
               "slide_type": "slide"
            }
         },
         "source": [
            "## Data Search and Retrieval\n",
            "\n",
            "- Transform filtered data into a list. \n",
            "- Display details of the first result:\n",
            "    - Count the results. \n",
            "    - Show overlap. \n",
            "    - Indicate cloudiness. "
         ]
      },
      {
         "cell_type": "markdown",
         "metadata": {
            "slideshow": {
               "slide_type": "notes"
            }
         },
         "source": [
            "In the following section, you'll learn:\n",
            "\n",
            "1. How to transform filtered results into a list to work with them more easily.\n",
            "2. How to display details of the first result to see what information it contains.\n",
            "    - Count the results: how many files were found after applying the filters.\n",
            "    - Show overlap: how much each file overlaps with the area you're looking for, so you know how well they cover the area.\n",
            "    - Indicate cloudiness: amount of clouds in each file before filtering, so you can consider if cloud coverage is an important factor for you.\n",
            "\n",
            "\n"
         ]
      },
      {
         "cell_type": "markdown",
         "metadata": {
            "slideshow": {
               "slide_type": "slide"
            }
         },
         "source": [
            "## Live Coding: Let's go to notebook XXXX. "
         ]
      },
      {
         "cell_type": "markdown",
         "metadata": {
            "slideshow": {
               "slide_type": "slide"
            }
         },
         "source": [
            "## Activity 2:\n",
            "\n",
            "TO BE DEFINED"
         ]
      },
      {
         "cell_type": "markdown",
         "metadata": {
            "slideshow": {
               "slide_type": "slide"
            }
         },
         "source": [
            "## Data Analysis\n",
            "\n",
            "TO BE DEFINED"
         ]
      },
      {
         "cell_type": "markdown",
         "metadata": {
            "slideshow": {
               "slide_type": "slide"
            }
         },
         "source": [
            "## Live Coding: Let's go to notebook XXXX. "
         ]
      },
      {
         "cell_type": "markdown",
         "metadata": {
            "slideshow": {
               "slide_type": "slide"
            }
         },
         "source": [
            "## Activity 3:\n",
            "\n",
            "TO BE DEFINED"
         ]
      },
      {
         "cell_type": "markdown",
         "metadata": {
            "slideshow": {
               "slide_type": "slide"
            }
         },
         "source": [
            "## Processing and Visualization\n",
            "\n",
            "TO BE DEFINED"
         ]
      },
      {
         "cell_type": "markdown",
         "metadata": {
            "slideshow": {
               "slide_type": "slide"
            }
         },
         "source": [
            "## Live Coding: Let's go to the notebook XXXX."
         ]
      },
      {
         "cell_type": "markdown",
         "metadata": {
            "slideshow": {
               "slide_type": "slide"
            }
         },
         "source": [
            "## Activity 4:\n",
            "\n",
            "TO BE DEFINED"
         ]
      }
   ],
   "metadata": {
      "language_info": {
         "name": "python"
      }
   },
   "nbformat": 4,
   "nbformat_minor": 2
}
